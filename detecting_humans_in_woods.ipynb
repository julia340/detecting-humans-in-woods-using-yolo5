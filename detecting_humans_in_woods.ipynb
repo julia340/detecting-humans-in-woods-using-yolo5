{
  "cells": [
    {
      "cell_type": "code",
      "execution_count": null,
      "metadata": {
        "id": "AHtkUPe-zTLX"
      },
      "outputs": [],
      "source": [
        "!git clone https://github.com/ultralytics/yolov5\n",
        "%cd yolov5\n",
        "!pip install -r requirements.txt\n"
      ]
    },
    {
      "cell_type": "code",
      "execution_count": null,
      "metadata": {
        "id": "C2t5s-v4zgGl"
      },
      "outputs": [],
      "source": [
        "import torch\n",
        "import os\n",
        "import cv2\n",
        "from google.colab import drive\n",
        "drive.mount('/content/gdrive')\n",
        "\n",
        "# Wczytanie modelu YOLOv5\n",
        "model = torch.hub.load('ultralytics/yolov5', 'yolov5s', pretrained=True)\n",
        "\n",
        "path_with_people = '/content/gdrive/MyDrive/detecting_humans/photos/human'\n",
        "path_without_people = '/content/gdrive/MyDrive/detecting_humans/photos/no_human'\n",
        "input_video_path = '/content/gdrive/MyDrive/detecting_humans/movie.mp4'\n",
        "\n",
        "\n",
        "def detect_people_yolo(image_path):\n",
        "    img = cv2.imread(image_path) \n",
        "    img = cv2.cvtColor(img, cv2.COLOR_BGR2RGB)  \n",
        "    results = model(img) \n",
        "    results.show()  \n",
        "\n",
        "\n",
        "sample_images = [os.path.join(path_with_people, img) for img in os.listdir(path_with_people)[:3]]\n",
        "sample_images += [os.path.join(path_without_people, img) for img in os.listdir(path_without_people)[:3]]\n",
        "\n",
        "for img_path in sample_images:\n",
        "    detect_people_yolo(img_path)\n"
      ]
    }
  ],
  "metadata": {
    "colab": {
      "provenance": []
    },
    "kernelspec": {
      "display_name": "Python 3",
      "name": "python3"
    },
    "language_info": {
      "name": "python"
    }
  },
  "nbformat": 4,
  "nbformat_minor": 0
}
