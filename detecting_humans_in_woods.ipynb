{
  "nbformat": 4,
  "nbformat_minor": 0,
  "metadata": {
    "colab": {
      "provenance": []
    },
    "kernelspec": {
      "name": "python3",
      "display_name": "Python 3"
    },
    "language_info": {
      "name": "python"
    }
  },
  "cells": [
    {
      "cell_type": "code",
      "source": [
        "!git clone https://github.com/ultralytics/yolov5\n",
        "%cd yolov5\n",
        "!pip install -r requirements.txt\n"
      ],
      "metadata": {
        "id": "AHtkUPe-zTLX"
      },
      "execution_count": null,
      "outputs": []
    },
    {
      "cell_type": "code",
      "source": [
        "import torch\n",
        "import os\n",
        "import cv2\n",
        "from google.colab import drive\n",
        "drive.mount('/content/gdrive')\n",
        "\n",
        "# Wczytanie modelu YOLOv5\n",
        "model = torch.hub.load('ultralytics/yolov5', 'yolov5s', pretrained=True)\n",
        "\n",
        "path_with_people = '/content/gdrive/MyDrive/detecting_humans/photos/human'\n",
        "path_without_people = '/content/gdrive/MyDrive/detecting_humans/photos/no_human'\n",
        "input_video_path = '/content/gdrive/MyDrive/detecting_humans/movie.mp4'\n",
        "\n",
        "# Detekcja ludzi na obrazach z użyciem cv2.imread()\n",
        "def detect_people_yolo(image_path):\n",
        "    img = cv2.imread(image_path)  # Wczytanie obrazu za pomocą OpenCV\n",
        "    img = cv2.cvtColor(img, cv2.COLOR_BGR2RGB)  # Konwersja kolorów (OpenCV wczytuje w formacie BGR)\n",
        "    results = model(img)  # Detekcja za pomocą modelu YOLOv5\n",
        "    results.show()  # Wyświetlenie wyników detekcji\n",
        "\n",
        "# Przykładowa detekcja na obrazach z ludźmi i bez ludzi\n",
        "sample_images = [os.path.join(path_with_people, img) for img in os.listdir(path_with_people)[:3]]\n",
        "sample_images += [os.path.join(path_without_people, img) for img in os.listdir(path_without_people)[:3]]\n",
        "\n",
        "for img_path in sample_images:\n",
        "    detect_people_yolo(img_path)\n"
      ],
      "metadata": {
        "id": "C2t5s-v4zgGl"
      },
      "execution_count": null,
      "outputs": []
    }
  ]
}